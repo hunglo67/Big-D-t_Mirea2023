{
 "cells": [
  {
   "cell_type": "code",
   "execution_count": 1,
   "id": "3f03f004",
   "metadata": {},
   "outputs": [
    {
     "name": "stdout",
     "output_type": "stream",
     "text": [
      "Введите длину последовательности (N): 7\n",
      "1 2 2 3 3 3 4\n"
     ]
    }
   ],
   "source": [
    "def generate_sequence(N):\n",
    "    sequence = []\n",
    "    num = 1\n",
    "    \n",
    "    while len(sequence) < N:\n",
    "        for _ in range(num):\n",
    "            sequence.append(num)\n",
    "            if len(sequence) == N:\n",
    "                break\n",
    "        num += 1\n",
    "    \n",
    "    return sequence\n",
    "\n",
    "def main():\n",
    "    try:\n",
    "        N = int(input(\"Введите длину последовательности (N): \"))\n",
    "        if N < 0:\n",
    "            print(\"Пожалуйста, введите неотрицательное целое число.\")\n",
    "            return\n",
    "    except ValueError:\n",
    "        print(\"Пожалуйста, введите корректное число.\")\n",
    "        return\n",
    "    \n",
    "    sequence = generate_sequence(N)\n",
    "    \n",
    "    print(*sequence)\n",
    "\n",
    "if __name__ == \"__main__\":\n",
    "    main()\n"
   ]
  },
  {
   "cell_type": "code",
   "execution_count": 2,
   "id": "f2c48997",
   "metadata": {},
   "outputs": [
    {
     "name": "stdout",
     "output_type": "stream",
     "text": [
      "Введите длину последовательности (N): 12\n",
      "1 2 2 3 3 3 4 4 4 4 5 5\n"
     ]
    }
   ],
   "source": [
    "main()"
   ]
  },
  {
   "cell_type": "code",
   "execution_count": null,
   "id": "b33510bc",
   "metadata": {},
   "outputs": [],
   "source": []
  }
 ],
 "metadata": {
  "kernelspec": {
   "display_name": "Python 3 (ipykernel)",
   "language": "python",
   "name": "python3"
  },
  "language_info": {
   "codemirror_mode": {
    "name": "ipython",
    "version": 3
   },
   "file_extension": ".py",
   "mimetype": "text/x-python",
   "name": "python",
   "nbconvert_exporter": "python",
   "pygments_lexer": "ipython3",
   "version": "3.11.4"
  }
 },
 "nbformat": 4,
 "nbformat_minor": 5
}
