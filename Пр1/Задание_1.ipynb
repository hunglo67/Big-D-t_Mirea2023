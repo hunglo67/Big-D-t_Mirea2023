{
 "cells": [
  {
   "cell_type": "code",
   "execution_count": null,
   "id": "0232919f",
   "metadata": {},
   "outputs": [
    {
     "name": "stdout",
     "output_type": "stream",
     "text": [
      "Выберите тип фигуры:\n",
      "1 - Треугольник\n",
      "2 - Прямоугольник\n",
      "3 - Круг\n",
      "4 - Выход\n"
     ]
    }
   ],
   "source": [
    "import math\n",
    "\n",
    "def calculate_triangle_area(a, b, c):\n",
    "    p = (a + b + c) / 2\n",
    "    area = math.sqrt(p * (p - a) * (p - b) * (p - c))\n",
    "    return {\"Треугольник\": area}\n",
    "\n",
    "def calculate_rectangle_area(length, width):\n",
    "    area = length * width\n",
    "    return {\"Прямоугольник\": area}\n",
    "\n",
    "def calculate_circle_area(radius):\n",
    "    area = math.pi * radius ** 2\n",
    "    return {\"Круг\": area}\n",
    "\n",
    "def main():\n",
    "    \n",
    "    \n",
    "    while True:\n",
    "        print(\"Выберите тип фигуры:\")\n",
    "        print(\"1 - Треугольник\")\n",
    "        print(\"2 - Прямоугольник\")\n",
    "        print(\"3 - Круг\")\n",
    "        print(\"4 - Выход\")\n",
    "        \n",
    "        try:\n",
    "            figure_type = int(input(\"Введите номер: \"))\n",
    "        except ValueError:\n",
    "            print(\"Пожалуйста, введите число от 1 до 4.\")\n",
    "            continue\n",
    "        \n",
    "        if figure_type == 4:\n",
    "            break\n",
    "        \n",
    "        if figure_type not in [1, 2, 3]:\n",
    "            print(\"Неверный тип фигуры. Попробуйте еще раз.\")\n",
    "            continue\n",
    "        \n",
    "        if figure_type == 1:\n",
    "            figures = {}\n",
    "            a = float(input(\"Введите длину стороны a: \"))\n",
    "            b = float(input(\"Введите длину стороны b: \"))\n",
    "            c = float(input(\"Введите длину стороны c: \"))\n",
    "            area = calculate_triangle_area(a, b, c)\n",
    "            figures.update(area)\n",
    "            print(\"Площади фигур:\")\n",
    "            print(figures)\n",
    "        \n",
    "        elif figure_type == 2:\n",
    "            figures = {}\n",
    "            length = float(input(\"Введите длину прямоугольника: \"))\n",
    "            width = float(input(\"Введите ширину прямоугольника: \"))\n",
    "            area = calculate_rectangle_area(length, width)\n",
    "            figures.update(area)\n",
    "            print(\"Площади фигур:\")\n",
    "            print(figures)\n",
    "        else:\n",
    "            figures = {}\n",
    "            radius = float(input(\"Введите радиус круга: \"))\n",
    "            area = calculate_circle_area(radius)\n",
    "            figures.update(area)\n",
    "            print(\"Площади фигур:\")\n",
    "            print(figures)\n",
    "        \n",
    "        #print(f\"Площадь {list(area.keys())[0]}: {list(area.values())[0]}\")\n",
    "    \n",
    "    \n",
    "\n",
    "if __name__ == \"__main__\":\n",
    "    main()\n"
   ]
  },
  {
   "cell_type": "code",
   "execution_count": null,
   "id": "f500b8d6",
   "metadata": {},
   "outputs": [],
   "source": []
  },
  {
   "cell_type": "code",
   "execution_count": null,
   "id": "511cacc2",
   "metadata": {},
   "outputs": [],
   "source": []
  },
  {
   "cell_type": "code",
   "execution_count": null,
   "id": "1d58ef47",
   "metadata": {},
   "outputs": [],
   "source": []
  },
  {
   "cell_type": "code",
   "execution_count": null,
   "id": "970a5531",
   "metadata": {},
   "outputs": [],
   "source": [
    " "
   ]
  },
  {
   "cell_type": "code",
   "execution_count": null,
   "id": "35fae7a1",
   "metadata": {},
   "outputs": [],
   "source": []
  }
 ],
 "metadata": {
  "kernelspec": {
   "display_name": "Python 3 (ipykernel)",
   "language": "python",
   "name": "python3"
  },
  "language_info": {
   "codemirror_mode": {
    "name": "ipython",
    "version": 3
   },
   "file_extension": ".py",
   "mimetype": "text/x-python",
   "name": "python",
   "nbconvert_exporter": "python",
   "pygments_lexer": "ipython3",
   "version": "3.11.4"
  }
 },
 "nbformat": 4,
 "nbformat_minor": 5
}
