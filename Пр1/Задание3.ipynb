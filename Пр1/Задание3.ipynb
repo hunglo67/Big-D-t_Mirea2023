{
 "cells": [
  {
   "cell_type": "code",
   "execution_count": 1,
   "id": "f1720ecf",
   "metadata": {},
   "outputs": [],
   "source": [
    "def main():\n",
    "    numbers = []\n",
    "    \n",
    "    while True:\n",
    "        try:\n",
    "            num = float(input(\"Введите число (или 0 для завершения): \"))\n",
    "        except ValueError:\n",
    "            print(\"Пожалуйста, введите корректное число.\")\n",
    "            continue\n",
    "        \n",
    "        numbers.append(num)\n",
    "        \n",
    "        if sum(numbers) == 0:\n",
    "            break\n",
    "    \n",
    "    sum_of_squares = sum(x**2 for x in numbers)\n",
    "    print(f\"Сумма квадратов введенных чисел: {sum_of_squares}\")"
   ]
  },
  {
   "cell_type": "code",
   "execution_count": 2,
   "id": "7dcc3d36",
   "metadata": {},
   "outputs": [
    {
     "name": "stdout",
     "output_type": "stream",
     "text": [
      "Введите число (или 0 для завершения): 1\n",
      "Введите число (или 0 для завершения): -3\n",
      "Введите число (или 0 для завершения): 5\n",
      "Введите число (или 0 для завершения): -6\n",
      "Введите число (или 0 для завершения): -10\n",
      "Введите число (или 0 для завершения): 13\n",
      "Сумма квадратов введенных чисел: 340.0\n"
     ]
    }
   ],
   "source": [
    "main()"
   ]
  },
  {
   "cell_type": "code",
   "execution_count": null,
   "id": "5b611e02",
   "metadata": {},
   "outputs": [],
   "source": []
  }
 ],
 "metadata": {
  "kernelspec": {
   "display_name": "Python 3 (ipykernel)",
   "language": "python",
   "name": "python3"
  },
  "language_info": {
   "codemirror_mode": {
    "name": "ipython",
    "version": 3
   },
   "file_extension": ".py",
   "mimetype": "text/x-python",
   "name": "python",
   "nbconvert_exporter": "python",
   "pygments_lexer": "ipython3",
   "version": "3.11.4"
  }
 },
 "nbformat": 4,
 "nbformat_minor": 5
}
