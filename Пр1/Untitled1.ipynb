{
 "cells": [
  {
   "cell_type": "code",
   "execution_count": 2,
   "id": "bac994cb",
   "metadata": {},
   "outputs": [
    {
     "name": "stdout",
     "output_type": "stream",
     "text": [
      "Признак: MedInc, Среднее значение: 0      MedInc\n",
      "1    3.870671\n",
      "Name: MedInc, dtype: object\n",
      "Признак: HouseAge, Среднее значение: 0     HouseAge\n",
      "1    28.639486\n",
      "Name: HouseAge, dtype: object\n",
      "Признак: AveRooms, Среднее значение: 0    AveRooms\n",
      "1       5.429\n",
      "Name: AveRooms, dtype: object\n",
      "Признак: AveBedrms, Среднее значение: 0    AveBedrms\n",
      "1     1.096675\n",
      "Name: AveBedrms, dtype: object\n",
      "Признак: Population, Среднее значение: 0     Population\n",
      "1    1425.476744\n",
      "Name: Population, dtype: object\n",
      "Признак: AveOccup, Среднее значение: 0    AveOccup\n",
      "1    3.070655\n",
      "Name: AveOccup, dtype: object\n",
      "Признак: Latitude, Среднее значение: 0     Latitude\n",
      "1    35.631861\n",
      "Name: Latitude, dtype: object\n",
      "Признак: Longitude, Среднее значение: 0     Longitude\n",
      "1   -119.569704\n",
      "Name: Longitude, dtype: object\n"
     ]
    },
    {
     "name": "stderr",
     "output_type": "stream",
     "text": [
      "C:\\Users\\Hung\\AppData\\Local\\Temp\\ipykernel_14576\\4092163564.py:14: FutureWarning: iteritems is deprecated and will be removed in a future version. Use .items instead.\n",
      "  for name, mean in mean_values.iteritems():\n"
     ]
    }
   ],
   "source": [
    "import pandas as pd\n",
    "from sklearn.datasets import fetch_california_housing\n",
    "\n",
    "# Загрузите данные\n",
    "data = fetch_california_housing(as_frame=True)\n",
    "\n",
    "# Преобразуйте данные в DataFrame\n",
    "df = pd.DataFrame(data.data)\n",
    "\n",
    "# Используйте метод apply() для вычисления средних значений\n",
    "mean_values = df.apply(lambda column: (column.name, column.mean()), axis=0)\n",
    "\n",
    "# Выведите название признака и его среднее значение\n",
    "for name, mean in mean_values.iteritems():\n",
    "    print(f\"Признак: {name}, Среднее значение: {mean}\")\n"
   ]
  },
  {
   "cell_type": "code",
   "execution_count": null,
   "id": "1fe5e396",
   "metadata": {},
   "outputs": [],
   "source": []
  }
 ],
 "metadata": {
  "kernelspec": {
   "display_name": "Python 3 (ipykernel)",
   "language": "python",
   "name": "python3"
  },
  "language_info": {
   "codemirror_mode": {
    "name": "ipython",
    "version": 3
   },
   "file_extension": ".py",
   "mimetype": "text/x-python",
   "name": "python",
   "nbconvert_exporter": "python",
   "pygments_lexer": "ipython3",
   "version": "3.11.4"
  }
 },
 "nbformat": 4,
 "nbformat_minor": 5
}
