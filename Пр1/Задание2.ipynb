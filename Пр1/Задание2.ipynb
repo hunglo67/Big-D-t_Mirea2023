{
 "cells": [
  {
   "cell_type": "code",
   "execution_count": 1,
   "id": "93305311",
   "metadata": {},
   "outputs": [],
   "source": [
    "def calculate_result(num1, num2, operation):\n",
    "    if operation == '+':\n",
    "        return num1 + num2\n",
    "    elif operation == '-':\n",
    "        return num1 - num2\n",
    "    elif operation == '*':\n",
    "        return num1 * num2\n",
    "    elif operation == '/':\n",
    "        if num2 != 0:\n",
    "            return num1 / num2\n",
    "        else:\n",
    "            return \"Ошибка: деление на ноль\"\n",
    "    elif operation == '//':\n",
    "        if num2 != 0:\n",
    "            return num1 // num2\n",
    "        else:\n",
    "            return \"Ошибка: деление на ноль\"\n",
    "    elif operation == 'abs':\n",
    "        return abs(num1), abs(num2)\n",
    "    elif operation == '**' or operation == 'pow':\n",
    "        return num1 ** num2\n",
    "    else:\n",
    "        return \"Ошибка: недопустимая операция\"\n",
    "\n",
    "def main():\n",
    "    num1 = float(input(\"Введите первое число: \"))\n",
    "    num2 = float(input(\"Введите второе число: \"))\n",
    "    operation = input(\"Введите операцию (+, -, *, /, //, abs, **): \")\n",
    "    \n",
    "    result = calculate_result(num1, num2, operation)\n",
    "    \n",
    "    print(f\"Результат операции: {result}\")\n",
    "#if __name__ == \"__main__\":\n",
    "    #main()\n",
    "\n"
   ]
  },
  {
   "cell_type": "code",
   "execution_count": 2,
   "id": "ac5f9cbb",
   "metadata": {},
   "outputs": [
    {
     "name": "stdout",
     "output_type": "stream",
     "text": [
      "Введите первое число: 12\n",
      "Введите второе число: 2\n",
      "Введите операцию (+, -, *, /, //, abs, **): +\n",
      "Результат операции: 14.0\n"
     ]
    }
   ],
   "source": [
    " main()"
   ]
  },
  {
   "cell_type": "code",
   "execution_count": 3,
   "id": "78afff7d",
   "metadata": {},
   "outputs": [
    {
     "name": "stdout",
     "output_type": "stream",
     "text": [
      "Введите первое число: 12\n",
      "Введите второе число: 2\n",
      "Введите операцию (+, -, *, /, //, abs, **): -\n",
      "Результат операции: 10.0\n"
     ]
    }
   ],
   "source": [
    "main()"
   ]
  },
  {
   "cell_type": "code",
   "execution_count": 4,
   "id": "834c68c2",
   "metadata": {},
   "outputs": [
    {
     "name": "stdout",
     "output_type": "stream",
     "text": [
      "Введите первое число: 12\n",
      "Введите второе число: 2\n",
      "Введите операцию (+, -, *, /, //, abs, **): /\n",
      "Результат операции: 6.0\n"
     ]
    }
   ],
   "source": [
    "main()"
   ]
  },
  {
   "cell_type": "code",
   "execution_count": 5,
   "id": "909c6dd3",
   "metadata": {},
   "outputs": [
    {
     "name": "stdout",
     "output_type": "stream",
     "text": [
      "Введите первое число: 12\n",
      "Введите второе число: 0\n",
      "Введите операцию (+, -, *, /, //, abs, **): //\n",
      "Результат операции: Ошибка: деление на ноль\n"
     ]
    }
   ],
   "source": [
    "main()"
   ]
  },
  {
   "cell_type": "code",
   "execution_count": 6,
   "id": "a361cd9f",
   "metadata": {},
   "outputs": [
    {
     "name": "stdout",
     "output_type": "stream",
     "text": [
      "Введите первое число: 12\n",
      "Введите второе число: 2\n",
      "Введите операцию (+, -, *, /, //, abs, **): **\n",
      "Результат операции: 144.0\n"
     ]
    }
   ],
   "source": [
    "main()"
   ]
  },
  {
   "cell_type": "code",
   "execution_count": 7,
   "id": "b11f7cec",
   "metadata": {},
   "outputs": [
    {
     "name": "stdout",
     "output_type": "stream",
     "text": [
      "Введите первое число: 12\n",
      "Введите второе число: 2\n",
      "Введите операцию (+, -, *, /, //, abs, **): *\n",
      "Результат операции: 24.0\n"
     ]
    }
   ],
   "source": [
    "main()"
   ]
  },
  {
   "cell_type": "code",
   "execution_count": null,
   "id": "eea68751",
   "metadata": {},
   "outputs": [],
   "source": []
  }
 ],
 "metadata": {
  "kernelspec": {
   "display_name": "Python 3 (ipykernel)",
   "language": "python",
   "name": "python3"
  },
  "language_info": {
   "codemirror_mode": {
    "name": "ipython",
    "version": 3
   },
   "file_extension": ".py",
   "mimetype": "text/x-python",
   "name": "python",
   "nbconvert_exporter": "python",
   "pygments_lexer": "ipython3",
   "version": "3.11.4"
  }
 },
 "nbformat": 4,
 "nbformat_minor": 5
}
